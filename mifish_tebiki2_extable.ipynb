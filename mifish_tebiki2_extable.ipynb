{
 "cells": [
  {
   "cell_type": "markdown",
   "id": "2b19e63e-2091-4443-9d7e-99bbcce408a2",
   "metadata": {},
   "source": [
    "# 生物多様性センター 環境DNA分析技術を用いた淡水魚類調査手法の手引きのプライマー整備状況の表を抽出するスクリプト"
   ]
  },
  {
   "cell_type": "markdown",
   "id": "72ae9cd9-358b-424b-83e7-6b329d792821",
   "metadata": {},
   "source": [
    "モジュールのインポート"
   ]
  },
  {
   "cell_type": "code",
   "execution_count": 148,
   "id": "a81fa9d5-0e3a-40c4-be3f-af422bdc6b11",
   "metadata": {},
   "outputs": [],
   "source": [
    "import pandas as pd\n",
    "import tabula"
   ]
  },
  {
   "cell_type": "markdown",
   "id": "2986a946-3bad-40dd-a9cc-3da811d9cb73",
   "metadata": {},
   "source": [
    "- 対象ファイル [mifish_tebiki2.pdf](http://www.biodic.go.jp/edna/reports/mifish_tebiki2.pdf)"
   ]
  },
  {
   "cell_type": "markdown",
   "id": "3115a754-d4ce-432c-9463-a333b6741376",
   "metadata": {},
   "source": [
    "ファイル構造は以下の通り。"
   ]
  },
  {
   "cell_type": "code",
   "execution_count": 152,
   "id": "6eaa9173-26a1-46e4-83a0-48c6f43d7160",
   "metadata": {},
   "outputs": [
    {
     "name": "stdout",
     "output_type": "stream",
     "text": [
      "\u001b[01;34m.\u001b[00m\n",
      "├── \u001b[01;34m20220429\u001b[00m\n",
      "│   ├── mifish_tebiki2.csv\n",
      "│   ├── mifish_tebiki2.pdf\n",
      "│   ├── p42_table.csv\n",
      "│   ├── p43_table.csv\n",
      "│   ├── p44_table.csv\n",
      "│   ├── p45_table.csv\n",
      "│   ├── p46_table.csv\n",
      "│   ├── p47_table.csv\n",
      "│   ├── p48_table.csv\n",
      "│   ├── p49_table.csv\n",
      "│   ├── p50_table.csv\n",
      "│   └── p51_table.csv\n",
      "└── mifish_tebiki2_extable.ipynb\n",
      "\n",
      "1 directory, 13 files\n"
     ]
    }
   ],
   "source": [
    "!tree"
   ]
  },
  {
   "cell_type": "markdown",
   "id": "702e8f33-10f6-4155-bc61-615daf32ad45",
   "metadata": {},
   "source": [
    "4/29に作業をしたので、その中に必要ファイルを出力しています。"
   ]
  },
  {
   "cell_type": "markdown",
   "id": "fa534adc-0b07-4327-916f-96c81ba83083",
   "metadata": {},
   "source": [
    "## 各ページのcsvファイルを作成"
   ]
  },
  {
   "cell_type": "code",
   "execution_count": 145,
   "id": "68ab819c-5a56-4c34-9b86-c4768fad4855",
   "metadata": {},
   "outputs": [
    {
     "name": "stderr",
     "output_type": "stream",
     "text": [
      "Got stderr: Apr 29, 2022 6:36:10 PM org.apache.fontbox.ttf.CmapSubtable processSubtype14\n",
      "WARNING: Format 14 cmap table is not supported and will be ignored\n",
      "Apr 29, 2022 6:36:10 PM org.apache.fontbox.ttf.CmapSubtable processSubtype14\n",
      "WARNING: Format 14 cmap table is not supported and will be ignored\n",
      "\n",
      "Got stderr: Apr 29, 2022 6:36:11 PM org.apache.fontbox.ttf.CmapSubtable processSubtype14\n",
      "WARNING: Format 14 cmap table is not supported and will be ignored\n",
      "Apr 29, 2022 6:36:11 PM org.apache.fontbox.ttf.CmapSubtable processSubtype14\n",
      "WARNING: Format 14 cmap table is not supported and will be ignored\n",
      "\n",
      "Got stderr: Apr 29, 2022 6:36:11 PM org.apache.fontbox.ttf.CmapSubtable processSubtype14\n",
      "WARNING: Format 14 cmap table is not supported and will be ignored\n",
      "Apr 29, 2022 6:36:11 PM org.apache.fontbox.ttf.CmapSubtable processSubtype14\n",
      "WARNING: Format 14 cmap table is not supported and will be ignored\n",
      "\n",
      "Got stderr: Apr 29, 2022 6:36:12 PM org.apache.fontbox.ttf.CmapSubtable processSubtype14\n",
      "WARNING: Format 14 cmap table is not supported and will be ignored\n",
      "Apr 29, 2022 6:36:12 PM org.apache.fontbox.ttf.CmapSubtable processSubtype14\n",
      "WARNING: Format 14 cmap table is not supported and will be ignored\n",
      "\n",
      "Got stderr: Apr 29, 2022 6:36:13 PM org.apache.fontbox.ttf.CmapSubtable processSubtype14\n",
      "WARNING: Format 14 cmap table is not supported and will be ignored\n",
      "Apr 29, 2022 6:36:13 PM org.apache.fontbox.ttf.CmapSubtable processSubtype14\n",
      "WARNING: Format 14 cmap table is not supported and will be ignored\n",
      "\n",
      "Got stderr: Apr 29, 2022 6:36:14 PM org.apache.fontbox.ttf.CmapSubtable processSubtype14\n",
      "WARNING: Format 14 cmap table is not supported and will be ignored\n",
      "Apr 29, 2022 6:36:14 PM org.apache.fontbox.ttf.CmapSubtable processSubtype14\n",
      "WARNING: Format 14 cmap table is not supported and will be ignored\n",
      "\n",
      "Got stderr: Apr 29, 2022 6:36:15 PM org.apache.fontbox.ttf.CmapSubtable processSubtype14\n",
      "WARNING: Format 14 cmap table is not supported and will be ignored\n",
      "Apr 29, 2022 6:36:15 PM org.apache.fontbox.ttf.CmapSubtable processSubtype14\n",
      "WARNING: Format 14 cmap table is not supported and will be ignored\n",
      "\n",
      "Got stderr: Apr 29, 2022 6:36:16 PM org.apache.fontbox.ttf.CmapSubtable processSubtype14\n",
      "WARNING: Format 14 cmap table is not supported and will be ignored\n",
      "Apr 29, 2022 6:36:16 PM org.apache.fontbox.ttf.CmapSubtable processSubtype14\n",
      "WARNING: Format 14 cmap table is not supported and will be ignored\n",
      "\n",
      "Got stderr: Apr 29, 2022 6:36:16 PM org.apache.fontbox.ttf.CmapSubtable processSubtype14\n",
      "WARNING: Format 14 cmap table is not supported and will be ignored\n",
      "Apr 29, 2022 6:36:17 PM org.apache.fontbox.ttf.CmapSubtable processSubtype14\n",
      "WARNING: Format 14 cmap table is not supported and will be ignored\n",
      "\n",
      "Got stderr: Apr 29, 2022 6:36:17 PM org.apache.fontbox.ttf.CmapSubtable processSubtype14\n",
      "WARNING: Format 14 cmap table is not supported and will be ignored\n",
      "Apr 29, 2022 6:36:17 PM org.apache.fontbox.ttf.CmapSubtable processSubtype14\n",
      "WARNING: Format 14 cmap table is not supported and will be ignored\n",
      "\n"
     ]
    }
   ],
   "source": [
    "for page in range(42, 52):\n",
    "    pd_lists = tabula.read_pdf('./20220429/mifish_tebiki2.pdf', lattice = True, pages = f'{page}', multiple_tables = True)\n",
    "    temp_df = pd.DataFrame(pd_lists[1])\n",
    "    temp_df_drop = temp_df.drop(temp_df.columns[[10,11]], axis = 1)\n",
    "    temp_df_drop_rename = temp_df_drop.rename(columns = {'MiFish\\r法で識\\r別可能\\rな種':'MiFish法で識別可能な種',\n",
    "                       'Unnamed: 0':'MiFish法で識別に注意を要する種',\n",
    "                       'iFis':'MiFish領域の有無',\n",
    "                       'Unnamed: 1':'種特異的プライマー',\n",
    "                       'MiFish\\r領域の\\r有無':'環境省RL2020',\n",
    "                       '種特異\\r的プラ\\rイマー':'外来種リスト',\n",
    "                       '環境省\\rRL2020':'地域個体群'})\n",
    "    table = temp_df_drop_rename.drop(temp_df_drop_rename.index[[0,1,2,3,4,5,6,7]])\n",
    "    table.to_csv(f'./20220429/p{page}_table.csv',header = True, index = False)"
   ]
  },
  {
   "cell_type": "markdown",
   "id": "4a2e75b8-335d-412e-b12a-15c24e475056",
   "metadata": {},
   "source": [
    "エラーは出ますが気にしないでいいと思います。"
   ]
  },
  {
   "cell_type": "markdown",
   "id": "97231fe9-6acf-4aee-a0da-7bc63b5f8c58",
   "metadata": {},
   "source": [
    "## 空のデータフレームを作って、そこに抽出したテーブルデータを結合"
   ]
  },
  {
   "cell_type": "code",
   "execution_count": 151,
   "id": "4b02182a-bf8f-4f97-89a2-b15d2c5f0db5",
   "metadata": {},
   "outputs": [],
   "source": [
    "table_df = pd.DataFrame(columns = ['No.','和名','学名','MiFish法で識別可能な種','MiFish法で識別に注意を要する種','MiFish領域の有無','種特異的プライマー','環境省RL2020','外来種リスト','地域個体群'])\n",
    "for table_p in range(42, 52):\n",
    "    table = pd.read_csv(f'./20220429/p{table_p}_table.csv', header = 0, index_col = False, encoding = 'utf-8')\n",
    "    table_df = pd.concat([table_df, table],axis = 0)\n",
    "table_df.to_csv('./20220429/mifish_tebiki2.csv',header = True, index = False)"
   ]
  }
 ],
 "metadata": {
  "kernelspec": {
   "display_name": "Python 3 (ipykernel)",
   "language": "python",
   "name": "python3"
  },
  "language_info": {
   "codemirror_mode": {
    "name": "ipython",
    "version": 3
   },
   "file_extension": ".py",
   "mimetype": "text/x-python",
   "name": "python",
   "nbconvert_exporter": "python",
   "pygments_lexer": "ipython3",
   "version": "3.10.4"
  }
 },
 "nbformat": 4,
 "nbformat_minor": 5
}
